{
 "cells": [
  {
   "cell_type": "markdown",
   "source": [
    "# @FH_python on aparat and more...\n",
    "\n",
    "\n",
    "# python part one : variables\n",
    "### variables are some data that we chose\n"
   ],
   "metadata": {
    "collapsed": false
   }
  },
  {
   "cell_type": "code",
   "execution_count": 27,
   "outputs": [],
   "source": [
    "a = 14\n",
    "b = 'amir'\n",
    "c = 3.0"
   ],
   "metadata": {
    "collapsed": false,
    "ExecuteTime": {
     "start_time": "2023-04-27T00:31:47.043218Z",
     "end_time": "2023-04-27T00:31:47.061171Z"
    }
   }
  },
  {
   "cell_type": "markdown",
   "source": [
    "# print command\n",
    "### you can show things with print"
   ],
   "metadata": {
    "collapsed": false
   }
  },
  {
   "cell_type": "code",
   "execution_count": 28,
   "outputs": [
    {
     "name": "stdout",
     "output_type": "stream",
     "text": [
      "14\n",
      "12331\n",
      "amir\n",
      "3.0\n",
      "sara\n"
     ]
    }
   ],
   "source": [
    "print(a)\n",
    "print(12331)\n",
    "print(b)\n",
    "print(c)\n",
    "print('sara')"
   ],
   "metadata": {
    "collapsed": false,
    "ExecuteTime": {
     "start_time": "2023-04-27T00:31:47.065160Z",
     "end_time": "2023-04-27T00:31:47.121009Z"
    }
   }
  },
  {
   "cell_type": "markdown",
   "source": [
    "# data types\n",
    "#### there is three types for data\n",
    "#### 1 : intiger = -4, -3 , 0 , 2 , 123\n",
    "#### 2 : string = \"anything\"\n",
    "#### 3 : float = 3.0 , 1.2\n",
    "\n",
    "#### you can find data type with \"type()\""
   ],
   "metadata": {
    "collapsed": false
   }
  },
  {
   "cell_type": "code",
   "execution_count": 29,
   "outputs": [
    {
     "name": "stdout",
     "output_type": "stream",
     "text": [
      "<class 'int'>\n",
      "<class 'str'>\n",
      "<class 'float'>\n"
     ]
    }
   ],
   "source": [
    "print(type(a))\n",
    "print(type(b))\n",
    "print(type(c))"
   ],
   "metadata": {
    "collapsed": false,
    "ExecuteTime": {
     "start_time": "2023-04-27T00:31:47.077127Z",
     "end_time": "2023-04-27T00:31:47.134973Z"
    }
   }
  },
  {
   "cell_type": "markdown",
   "source": [
    "### you can + int with int and str with str but you can not + str with int you should use ,"
   ],
   "metadata": {
    "collapsed": false
   }
  },
  {
   "cell_type": "code",
   "execution_count": 30,
   "outputs": [
    {
     "name": "stdout",
     "output_type": "stream",
     "text": [
      "14 amir\n",
      "amiramir\n"
     ]
    }
   ],
   "source": [
    "print(a, b)\n",
    "print(\"amir\" + b)"
   ],
   "metadata": {
    "collapsed": false,
    "ExecuteTime": {
     "start_time": "2023-04-27T00:31:47.095080Z",
     "end_time": "2023-04-27T00:31:47.135970Z"
    }
   }
  },
  {
   "cell_type": "markdown",
   "source": [
    "# changing data type\n",
    "#### you can change data type with \"int()\", \"str()\" and \"float()\"\n",
    "#### you cant converst str into int or float"
   ],
   "metadata": {
    "collapsed": false
   }
  },
  {
   "cell_type": "code",
   "execution_count": 31,
   "outputs": [
    {
     "name": "stdout",
     "output_type": "stream",
     "text": [
      "3.0\n",
      "3\n"
     ]
    }
   ],
   "source": [
    "x = int(c)\n",
    "print(c)\n",
    "print(x)"
   ],
   "metadata": {
    "collapsed": false,
    "ExecuteTime": {
     "start_time": "2023-04-27T00:31:47.109042Z",
     "end_time": "2023-04-27T00:31:47.135970Z"
    }
   }
  },
  {
   "cell_type": "markdown",
   "source": [
    "# input command\n",
    "#### you can requset something with input\n"
   ],
   "metadata": {
    "collapsed": false
   }
  },
  {
   "cell_type": "code",
   "execution_count": 32,
   "outputs": [
    {
     "name": "stdout",
     "output_type": "stream",
     "text": [
      "your name is :hafez\n"
     ]
    }
   ],
   "source": [
    "z = input(\"What is your name  ? \")\n",
    "print(\"your name is :\" + z )"
   ],
   "metadata": {
    "collapsed": false,
    "ExecuteTime": {
     "start_time": "2023-04-27T00:31:47.124003Z",
     "end_time": "2023-04-27T00:31:49.273937Z"
    }
   }
  }
 ],
 "metadata": {
  "kernelspec": {
   "display_name": "Python 3 (ipykernel)",
   "language": "python",
   "name": "python3"
  },
  "language_info": {
   "codemirror_mode": {
    "name": "ipython",
    "version": 3
   },
   "file_extension": ".py",
   "mimetype": "text/x-python",
   "name": "python",
   "nbconvert_exporter": "python",
   "pygments_lexer": "ipython3",
   "version": "3.11.2"
  }
 },
 "nbformat": 4,
 "nbformat_minor": 5
}
